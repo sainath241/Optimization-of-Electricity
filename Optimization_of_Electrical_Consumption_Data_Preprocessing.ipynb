{
  "nbformat": 4,
  "nbformat_minor": 0,
  "metadata": {
    "colab": {
      "provenance": []
    },
    "kernelspec": {
      "name": "python3",
      "display_name": "Python 3"
    },
    "language_info": {
      "name": "python"
    }
  },
  "cells": [
    {
      "cell_type": "code",
      "source": [
        "from google.colab import drive\n",
        "drive.mount('/content/drive')"
      ],
      "metadata": {
        "colab": {
          "base_uri": "https://localhost:8080/"
        },
        "id": "eQD30IS-qJmu",
        "outputId": "bdbbc4a9-4b56-43ac-9e2f-534869d55b62"
      },
      "execution_count": 22,
      "outputs": [
        {
          "output_type": "stream",
          "name": "stdout",
          "text": [
            "Drive already mounted at /content/drive; to attempt to forcibly remount, call drive.mount(\"/content/drive\", force_remount=True).\n"
          ]
        }
      ]
    },
    {
      "cell_type": "code",
      "execution_count": 23,
      "metadata": {
        "id": "8c5fcde7"
      },
      "outputs": [],
      "source": [
        "#importing libraries\n",
        "\n",
        "import pandas as pd          # data analysis library for handling structured data\n",
        "import numpy as np           # mathematical library for working with numerical data\n",
        "import datetime\n",
        "\n",
        "# Visualization\n",
        "import matplotlib.pyplot as plt     # data visualization library for creating graphs and charts\n",
        "%matplotlib inline\n",
        "import seaborn as sns        # data visualization library based on matplotlib for creating more attractive visualizations\n",
        "import plotly\n",
        "import plotly.express as px   # interactive data visualization library\n",
        "import plotly.graph_objects as go   # library for creating interactive graphs and charts\n",
        "from plotly.subplots import make_subplots\n",
        "import missingno as msno\n",
        "\n"
      ]
    },
    {
      "cell_type": "code",
      "execution_count": 24,
      "metadata": {
        "colab": {
          "base_uri": "https://localhost:8080/"
        },
        "id": "d0dbae9d",
        "outputId": "75520350-67b5-4c86-e717-afa5393f102d"
      },
      "outputs": [
        {
          "output_type": "stream",
          "name": "stderr",
          "text": [
            "<ipython-input-24-f40cd21c08f9>:3: DtypeWarning: Columns (0,27) have mixed types. Specify dtype option on import or set low_memory=False.\n",
            "  smart_home = pd.read_csv('/content/drive/MyDrive/Data/HomeC.csv')\n"
          ]
        }
      ],
      "source": [
        "#/content/drive/MyDrive/Data/HomeC.csv\n",
        "\n",
        "smart_home = pd.read_csv('/content/drive/MyDrive/Data/HomeC.csv')\n",
        "\n",
        "\n",
        "\n"
      ]
    },
    {
      "cell_type": "code",
      "execution_count": 25,
      "metadata": {
        "id": "8f9a984a"
      },
      "outputs": [],
      "source": [
        "smart_home['time'] = pd.DatetimeIndex(pd.date_range('2016-01-01 05:00', periods=len(smart_home),  freq='min'))"
      ]
    },
    {
      "cell_type": "code",
      "execution_count": 26,
      "metadata": {
        "id": "m7X-7pSUBeMS"
      },
      "outputs": [],
      "source": [
        "smart_home['year'] = smart_home['time'].apply(lambda x : x.year)\n",
        "smart_home['month'] = smart_home['time'].apply(lambda x : x.month)\n",
        "smart_home['day'] = smart_home['time'].apply(lambda x : x.day)\n",
        "smart_home['weekday'] = smart_home['time'].apply(lambda x : x.day_name())\n",
        "smart_home['weekofyear'] = smart_home['time'].apply(lambda x : x.weekofyear)\n",
        "smart_home['hour'] = smart_home['time'].apply(lambda x : x.hour)\n",
        "smart_home['minute'] = smart_home['time'].apply(lambda x : x.minute)\n",
        "\n",
        "\n"
      ]
    },
    {
      "cell_type": "code",
      "source": [
        "def hours2timing(x):\n",
        "    if x in [20,21,22,23,0,1,2,3,4]:\n",
        "        timing = 'Night'\n",
        "    elif x in range(4, 12):\n",
        "        timing = 'Morning'\n",
        "    elif x in range(12, 16):\n",
        "        timing = 'Afternoon'\n",
        "    elif x in range(16, 20):\n",
        "        timing = 'Evening'\n",
        "    else:\n",
        "        timing = 'X'\n",
        "    return timing"
      ],
      "metadata": {
        "id": "yjkJA9K1Emp2"
      },
      "execution_count": 27,
      "outputs": []
    },
    {
      "cell_type": "code",
      "source": [
        "smart_home['timing'] = smart_home['hour'].apply(hours2timing)\n"
      ],
      "metadata": {
        "id": "h229C9gB4R1o"
      },
      "execution_count": 28,
      "outputs": []
    },
    {
      "cell_type": "code",
      "source": [
        "smart_home.columns = [i.replace(' [kW]', '') for i in smart_home.columns]"
      ],
      "metadata": {
        "id": "bkyimmwBRGSh"
      },
      "execution_count": 29,
      "outputs": []
    },
    {
      "cell_type": "code",
      "source": [
        "smart_home['Furnace'] = smart_home[['Furnace 1','Furnace 2']].sum(axis=1)\n",
        "smart_home['Kitchen'] = smart_home[['Kitchen 12','Kitchen 14','Kitchen 38']].sum(axis=1)\n",
        "smart_home.drop(['Furnace 1','Furnace 2','Kitchen 12','Kitchen 14','Kitchen 38','icon','summary'], axis=1, inplace=True)"
      ],
      "metadata": {
        "id": "7N_oWY2ANrxf"
      },
      "execution_count": 30,
      "outputs": []
    },
    {
      "cell_type": "code",
      "source": [
        "smart_home[smart_home.isnull().any(axis=1)]"
      ],
      "metadata": {
        "id": "sGgXUYvlRy5H",
        "colab": {
          "base_uri": "https://localhost:8080/",
          "height": 182
        },
        "outputId": "eae1e0b1-2076-43c1-f497-6f4645833fc7"
      },
      "execution_count": 31,
      "outputs": [
        {
          "output_type": "execute_result",
          "data": {
            "text/plain": [
              "                      time  use  gen  House overall  Dishwasher  Home office  \\\n",
              "503910 2016-12-16 03:30:00  NaN  NaN            NaN         NaN          NaN   \n",
              "\n",
              "        Fridge  Wine cellar  Garage door  Barn  ...  year  month  day  \\\n",
              "503910     NaN          NaN          NaN   NaN  ...  2016     12   16   \n",
              "\n",
              "        weekday  weekofyear  hour  minute  timing  Furnace  Kitchen  \n",
              "503910   Friday          50     3      30   Night      0.0      0.0  \n",
              "\n",
              "[1 rows x 35 columns]"
            ],
            "text/html": [
              "\n",
              "  <div id=\"df-36698144-dedb-44b6-9722-31da34b7f238\" class=\"colab-df-container\">\n",
              "    <div>\n",
              "<style scoped>\n",
              "    .dataframe tbody tr th:only-of-type {\n",
              "        vertical-align: middle;\n",
              "    }\n",
              "\n",
              "    .dataframe tbody tr th {\n",
              "        vertical-align: top;\n",
              "    }\n",
              "\n",
              "    .dataframe thead th {\n",
              "        text-align: right;\n",
              "    }\n",
              "</style>\n",
              "<table border=\"1\" class=\"dataframe\">\n",
              "  <thead>\n",
              "    <tr style=\"text-align: right;\">\n",
              "      <th></th>\n",
              "      <th>time</th>\n",
              "      <th>use</th>\n",
              "      <th>gen</th>\n",
              "      <th>House overall</th>\n",
              "      <th>Dishwasher</th>\n",
              "      <th>Home office</th>\n",
              "      <th>Fridge</th>\n",
              "      <th>Wine cellar</th>\n",
              "      <th>Garage door</th>\n",
              "      <th>Barn</th>\n",
              "      <th>...</th>\n",
              "      <th>year</th>\n",
              "      <th>month</th>\n",
              "      <th>day</th>\n",
              "      <th>weekday</th>\n",
              "      <th>weekofyear</th>\n",
              "      <th>hour</th>\n",
              "      <th>minute</th>\n",
              "      <th>timing</th>\n",
              "      <th>Furnace</th>\n",
              "      <th>Kitchen</th>\n",
              "    </tr>\n",
              "  </thead>\n",
              "  <tbody>\n",
              "    <tr>\n",
              "      <th>503910</th>\n",
              "      <td>2016-12-16 03:30:00</td>\n",
              "      <td>NaN</td>\n",
              "      <td>NaN</td>\n",
              "      <td>NaN</td>\n",
              "      <td>NaN</td>\n",
              "      <td>NaN</td>\n",
              "      <td>NaN</td>\n",
              "      <td>NaN</td>\n",
              "      <td>NaN</td>\n",
              "      <td>NaN</td>\n",
              "      <td>...</td>\n",
              "      <td>2016</td>\n",
              "      <td>12</td>\n",
              "      <td>16</td>\n",
              "      <td>Friday</td>\n",
              "      <td>50</td>\n",
              "      <td>3</td>\n",
              "      <td>30</td>\n",
              "      <td>Night</td>\n",
              "      <td>0.0</td>\n",
              "      <td>0.0</td>\n",
              "    </tr>\n",
              "  </tbody>\n",
              "</table>\n",
              "<p>1 rows × 35 columns</p>\n",
              "</div>\n",
              "    <div class=\"colab-df-buttons\">\n",
              "\n",
              "  <div class=\"colab-df-container\">\n",
              "    <button class=\"colab-df-convert\" onclick=\"convertToInteractive('df-36698144-dedb-44b6-9722-31da34b7f238')\"\n",
              "            title=\"Convert this dataframe to an interactive table.\"\n",
              "            style=\"display:none;\">\n",
              "\n",
              "  <svg xmlns=\"http://www.w3.org/2000/svg\" height=\"24px\" viewBox=\"0 -960 960 960\">\n",
              "    <path d=\"M120-120v-720h720v720H120Zm60-500h600v-160H180v160Zm220 220h160v-160H400v160Zm0 220h160v-160H400v160ZM180-400h160v-160H180v160Zm440 0h160v-160H620v160ZM180-180h160v-160H180v160Zm440 0h160v-160H620v160Z\"/>\n",
              "  </svg>\n",
              "    </button>\n",
              "\n",
              "  <style>\n",
              "    .colab-df-container {\n",
              "      display:flex;\n",
              "      gap: 12px;\n",
              "    }\n",
              "\n",
              "    .colab-df-convert {\n",
              "      background-color: #E8F0FE;\n",
              "      border: none;\n",
              "      border-radius: 50%;\n",
              "      cursor: pointer;\n",
              "      display: none;\n",
              "      fill: #1967D2;\n",
              "      height: 32px;\n",
              "      padding: 0 0 0 0;\n",
              "      width: 32px;\n",
              "    }\n",
              "\n",
              "    .colab-df-convert:hover {\n",
              "      background-color: #E2EBFA;\n",
              "      box-shadow: 0px 1px 2px rgba(60, 64, 67, 0.3), 0px 1px 3px 1px rgba(60, 64, 67, 0.15);\n",
              "      fill: #174EA6;\n",
              "    }\n",
              "\n",
              "    .colab-df-buttons div {\n",
              "      margin-bottom: 4px;\n",
              "    }\n",
              "\n",
              "    [theme=dark] .colab-df-convert {\n",
              "      background-color: #3B4455;\n",
              "      fill: #D2E3FC;\n",
              "    }\n",
              "\n",
              "    [theme=dark] .colab-df-convert:hover {\n",
              "      background-color: #434B5C;\n",
              "      box-shadow: 0px 1px 3px 1px rgba(0, 0, 0, 0.15);\n",
              "      filter: drop-shadow(0px 1px 2px rgba(0, 0, 0, 0.3));\n",
              "      fill: #FFFFFF;\n",
              "    }\n",
              "  </style>\n",
              "\n",
              "    <script>\n",
              "      const buttonEl =\n",
              "        document.querySelector('#df-36698144-dedb-44b6-9722-31da34b7f238 button.colab-df-convert');\n",
              "      buttonEl.style.display =\n",
              "        google.colab.kernel.accessAllowed ? 'block' : 'none';\n",
              "\n",
              "      async function convertToInteractive(key) {\n",
              "        const element = document.querySelector('#df-36698144-dedb-44b6-9722-31da34b7f238');\n",
              "        const dataTable =\n",
              "          await google.colab.kernel.invokeFunction('convertToInteractive',\n",
              "                                                    [key], {});\n",
              "        if (!dataTable) return;\n",
              "\n",
              "        const docLinkHtml = 'Like what you see? Visit the ' +\n",
              "          '<a target=\"_blank\" href=https://colab.research.google.com/notebooks/data_table.ipynb>data table notebook</a>'\n",
              "          + ' to learn more about interactive tables.';\n",
              "        element.innerHTML = '';\n",
              "        dataTable['output_type'] = 'display_data';\n",
              "        await google.colab.output.renderOutput(dataTable, element);\n",
              "        const docLink = document.createElement('div');\n",
              "        docLink.innerHTML = docLinkHtml;\n",
              "        element.appendChild(docLink);\n",
              "      }\n",
              "    </script>\n",
              "  </div>\n",
              "\n",
              "\n",
              "    </div>\n",
              "  </div>\n"
            ],
            "application/vnd.google.colaboratory.intrinsic+json": {
              "type": "dataframe"
            }
          },
          "metadata": {},
          "execution_count": 31
        }
      ]
    },
    {
      "cell_type": "code",
      "source": [
        "smart_home = smart_home[0:-1]"
      ],
      "metadata": {
        "id": "Uk_YsMelSKBD"
      },
      "execution_count": 32,
      "outputs": []
    },
    {
      "cell_type": "code",
      "source": [
        "from sklearn.covariance import EllipticEnvelope\n",
        "\n",
        "# Create detector\n",
        "outlier_detector = EllipticEnvelope(contamination=.1)\n",
        "\n",
        "# Select only numeric columns\n",
        "numeric_cols = smart_home.select_dtypes(include=[\"float64\", \"int64\"])\n",
        "\n",
        "# Fit detector\n",
        "outlier_detector.fit(numeric_cols)\n",
        "\n",
        "# Predict outliers\n",
        "outlier_predictions = outlier_detector.predict(numeric_cols)\n",
        "\n",
        "# Add outlier predictions to original dataframe\n",
        "smart_home[\"outlier\"] = outlier_predictions\n",
        "\n",
        "\n",
        "\n",
        "\n",
        "# The EllipticEnvelope algorithm is a robust covariance estimator that fits an ellipse to the central region of the data,\n",
        "# ignoring observations that are considered outliers. It is a method for detecting outliers in multivariate data that are\n",
        "# assumed to be normally distributed. The contamination parameter specifies the proportion of data points that are expected\n",
        "# to be outliers.\n",
        "\n",
        "# The predict method of the LOF object is then used to predict whether each observation in numeric_cols is an outlier\n",
        "# or not, with 1 indicating a normal observation and -1 indicating an outlier"
      ],
      "metadata": {
        "id": "pemYflZgN2qt"
      },
      "execution_count": 33,
      "outputs": []
    },
    {
      "cell_type": "code",
      "source": [
        "#Filtering the data into Overall Energy consumption and generation, energy consumption of diifferent appliances\n",
        "#Remaining data considered as weather data\n",
        "#select the required columns\n",
        "smart_home['overall_energy_consumption'] = smart_home['use']\n",
        "smart_home['overall_energy_generation'] = smart_home['gen']\n",
        "\n",
        "\n",
        "\n"
      ],
      "metadata": {
        "id": "XOjed-H8f57s"
      },
      "execution_count": 34,
      "outputs": []
    },
    {
      "cell_type": "code",
      "source": [
        "# Save the updated DataFrame to a CSV file\n",
        "output_csv_path = '/content/drive/MyDrive/Data/smart_home_data_preprocessed.csv'\n",
        "smart_home.to_csv(output_csv_path)\n"
      ],
      "metadata": {
        "id": "Sbr5SghAJ-Vj"
      },
      "execution_count": 35,
      "outputs": []
    }
  ]
}